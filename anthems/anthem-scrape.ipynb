{
 "cells": [
  {
   "cell_type": "code",
   "execution_count": 13,
   "metadata": {},
   "outputs": [],
   "source": [
    "import wikipedia as wp\n",
    "import pandas as pd\n",
    "import requests\n",
    "from bs4 import BeautifulSoup\n",
    "import gender_guesser.detector as gender"
   ]
  },
  {
   "cell_type": "markdown",
   "metadata": {},
   "source": [
    "## GET PAGE"
   ]
  },
  {
   "cell_type": "code",
   "execution_count": 14,
   "metadata": {},
   "outputs": [],
   "source": [
    "# send requests\n",
    "r = requests.get('https://en.wikipedia.org/wiki/List_of_national_anthems')"
   ]
  },
  {
   "cell_type": "code",
   "execution_count": 15,
   "metadata": {},
   "outputs": [],
   "source": [
    "# parse into searchable object\n",
    "soup = BeautifulSoup(r.content, 'html5lib')"
   ]
  },
  {
   "cell_type": "markdown",
   "metadata": {},
   "source": [
    "## GET INFO OUT"
   ]
  },
  {
   "cell_type": "code",
   "execution_count": 16,
   "metadata": {},
   "outputs": [],
   "source": [
    "# the rows are stored in an attribute like this\n",
    "trs = soup.findAll('tr')"
   ]
  },
  {
   "cell_type": "code",
   "execution_count": 17,
   "metadata": {},
   "outputs": [],
   "source": [
    "# country can be parsed like this\n",
    "def get_country(tr):\n",
    "    try:\n",
    "        return tr.findAll('a')[0].text\n",
    "    except:\n",
    "        return 'No country'\n",
    "\n",
    "# other attributes can be parsed like this\n",
    "def get_nth_td_text(tr, n):\n",
    "    try:\n",
    "        return tr.findAll('td')[n].text\n",
    "    except:\n",
    "        return 'N/A'\n",
    "        "
   ]
  },
  {
   "cell_type": "code",
   "execution_count": 18,
   "metadata": {},
   "outputs": [],
   "source": [
    "# this is very task specific data munging\n",
    "cut_val = -28\n",
    "\n",
    "countries = [get_country(tr) for tr in trs[2:]][:-10][:cut_val]\n",
    "anthems = [get_nth_td_text(tr, 0).replace('\"', '') for tr in trs[2:]][:cut_val-10]\n",
    "years = [get_nth_td_text(tr, 1) for tr in trs[2:]][:cut_val-10]\n",
    "lyrics = [get_nth_td_text(tr, 2) for tr in trs[2:]][:cut_val-10]\n",
    "composers = [get_nth_td_text(tr, 3) for tr in trs[2:]][:cut_val-10]"
   ]
  },
  {
   "cell_type": "markdown",
   "metadata": {},
   "source": [
    "### CHECK QUALITY"
   ]
  },
  {
   "cell_type": "code",
   "execution_count": 19,
   "metadata": {},
   "outputs": [],
   "source": [
    "assert len(countries)==len(years)==len(anthems)==len(lyrics)==len(composers), ''"
   ]
  },
  {
   "cell_type": "markdown",
   "metadata": {},
   "source": [
    "## CREATE DF"
   ]
  },
  {
   "cell_type": "code",
   "execution_count": 20,
   "metadata": {},
   "outputs": [],
   "source": [
    "df = pd.DataFrame(index=countries)\n",
    "df['year'] = years\n",
    "df['anthem'] = anthems\n",
    "df['lyricist'] = lyrics\n",
    "df['composer'] = composers"
   ]
  },
  {
   "cell_type": "code",
   "execution_count": 21,
   "metadata": {},
   "outputs": [
    {
     "data": {
      "text/html": [
       "<div>\n",
       "<style scoped>\n",
       "    .dataframe tbody tr th:only-of-type {\n",
       "        vertical-align: middle;\n",
       "    }\n",
       "\n",
       "    .dataframe tbody tr th {\n",
       "        vertical-align: top;\n",
       "    }\n",
       "\n",
       "    .dataframe thead th {\n",
       "        text-align: right;\n",
       "    }\n",
       "</style>\n",
       "<table border=\"1\" class=\"dataframe\">\n",
       "  <thead>\n",
       "    <tr style=\"text-align: right;\">\n",
       "      <th></th>\n",
       "      <th>year</th>\n",
       "      <th>anthem</th>\n",
       "      <th>lyricist</th>\n",
       "      <th>composer</th>\n",
       "    </tr>\n",
       "  </thead>\n",
       "  <tbody>\n",
       "    <tr>\n",
       "      <th>Afghanistan</th>\n",
       "      <td>2006</td>\n",
       "      <td>Millī Surūd (National Anthem)</td>\n",
       "      <td>Abdul Bari Jahani</td>\n",
       "      <td>Babrak Wassa</td>\n",
       "    </tr>\n",
       "    <tr>\n",
       "      <th>Albania</th>\n",
       "      <td>1912</td>\n",
       "      <td>Betimi mbi Flamur(The Pledge on the Flag)</td>\n",
       "      <td>Aleksandër Stavre Drenova</td>\n",
       "      <td>Ciprian Porumbescu</td>\n",
       "    </tr>\n",
       "    <tr>\n",
       "      <th>Algeria</th>\n",
       "      <td>1962</td>\n",
       "      <td>Kassaman (We Pledge)</td>\n",
       "      <td>Moufdi Zakaria</td>\n",
       "      <td>Mohamed Fawzi</td>\n",
       "    </tr>\n",
       "    <tr>\n",
       "      <th>Andorra</th>\n",
       "      <td>1914</td>\n",
       "      <td>El Gran Carlemany(The Great Charlemagne)</td>\n",
       "      <td>Enric Marfany Bons</td>\n",
       "      <td>Juan Benlloch y Vivó</td>\n",
       "    </tr>\n",
       "    <tr>\n",
       "      <th>Angola</th>\n",
       "      <td>1975</td>\n",
       "      <td>Angola Avante(Forward Angola)</td>\n",
       "      <td>Manuel Rui Alves Monteiro</td>\n",
       "      <td>Rui Alberto Vieira Dias Mingas [pt]</td>\n",
       "    </tr>\n",
       "  </tbody>\n",
       "</table>\n",
       "</div>"
      ],
      "text/plain": [
       "             year                                     anthem  \\\n",
       "Afghanistan  2006              Millī Surūd (National Anthem)   \n",
       "Albania      1912  Betimi mbi Flamur(The Pledge on the Flag)   \n",
       "Algeria      1962                       Kassaman (We Pledge)   \n",
       "Andorra      1914   El Gran Carlemany(The Great Charlemagne)   \n",
       "Angola       1975              Angola Avante(Forward Angola)   \n",
       "\n",
       "                              lyricist                             composer  \n",
       "Afghanistan          Abdul Bari Jahani                         Babrak Wassa  \n",
       "Albania      Aleksandër Stavre Drenova                   Ciprian Porumbescu  \n",
       "Algeria                 Moufdi Zakaria                        Mohamed Fawzi  \n",
       "Andorra             Enric Marfany Bons                 Juan Benlloch y Vivó  \n",
       "Angola       Manuel Rui Alves Monteiro  Rui Alberto Vieira Dias Mingas [pt]  "
      ]
     },
     "execution_count": 21,
     "metadata": {},
     "output_type": "execute_result"
    }
   ],
   "source": [
    "df.head()"
   ]
  },
  {
   "cell_type": "code",
   "execution_count": 22,
   "metadata": {},
   "outputs": [
    {
     "data": {
      "text/html": [
       "<div>\n",
       "<style scoped>\n",
       "    .dataframe tbody tr th:only-of-type {\n",
       "        vertical-align: middle;\n",
       "    }\n",
       "\n",
       "    .dataframe tbody tr th {\n",
       "        vertical-align: top;\n",
       "    }\n",
       "\n",
       "    .dataframe thead th {\n",
       "        text-align: right;\n",
       "    }\n",
       "</style>\n",
       "<table border=\"1\" class=\"dataframe\">\n",
       "  <thead>\n",
       "    <tr style=\"text-align: right;\">\n",
       "      <th></th>\n",
       "      <th>year</th>\n",
       "      <th>anthem</th>\n",
       "      <th>lyricist</th>\n",
       "      <th>composer</th>\n",
       "    </tr>\n",
       "  </thead>\n",
       "  <tbody>\n",
       "    <tr>\n",
       "      <th>Venezuela</th>\n",
       "      <td>1881</td>\n",
       "      <td>Gloria al Bravo Pueblo(Glory to the Brave People)</td>\n",
       "      <td>Vicente Salias</td>\n",
       "      <td>Juan José Landaeta</td>\n",
       "    </tr>\n",
       "    <tr>\n",
       "      <th>Vietnam</th>\n",
       "      <td>1945</td>\n",
       "      <td>Tiến Quân Ca(Marching Song)</td>\n",
       "      <td>Văn Cao</td>\n",
       "      <td>Văn Cao</td>\n",
       "    </tr>\n",
       "    <tr>\n",
       "      <th>Yemen</th>\n",
       "      <td>1990</td>\n",
       "      <td>National anthem of Yemen</td>\n",
       "      <td>Abdallah Abdulwahab Noman</td>\n",
       "      <td>Ayoob Tarish</td>\n",
       "    </tr>\n",
       "    <tr>\n",
       "      <th>Zambia</th>\n",
       "      <td>1964</td>\n",
       "      <td>Stand and Sing of Zambia, Proud and Free</td>\n",
       "      <td>collectively</td>\n",
       "      <td>Enoch Sontonga</td>\n",
       "    </tr>\n",
       "    <tr>\n",
       "      <th>Zimbabwe</th>\n",
       "      <td>1994</td>\n",
       "      <td>Simudzai Mureza WeZimbabwe(O Lift High The Ban...</td>\n",
       "      <td>Solomon Mutswairo</td>\n",
       "      <td>Fred Changundega</td>\n",
       "    </tr>\n",
       "  </tbody>\n",
       "</table>\n",
       "</div>"
      ],
      "text/plain": [
       "           year                                             anthem  \\\n",
       "Venezuela  1881  Gloria al Bravo Pueblo(Glory to the Brave People)   \n",
       "Vietnam    1945                        Tiến Quân Ca(Marching Song)   \n",
       "Yemen      1990                           National anthem of Yemen   \n",
       "Zambia     1964           Stand and Sing of Zambia, Proud and Free   \n",
       "Zimbabwe   1994  Simudzai Mureza WeZimbabwe(O Lift High The Ban...   \n",
       "\n",
       "                            lyricist            composer  \n",
       "Venezuela             Vicente Salias  Juan José Landaeta  \n",
       "Vietnam                      Văn Cao             Văn Cao  \n",
       "Yemen      Abdallah Abdulwahab Noman        Ayoob Tarish  \n",
       "Zambia                  collectively      Enoch Sontonga  \n",
       "Zimbabwe           Solomon Mutswairo    Fred Changundega  "
      ]
     },
     "execution_count": 22,
     "metadata": {},
     "output_type": "execute_result"
    }
   ],
   "source": [
    "df.tail()"
   ]
  },
  {
   "cell_type": "markdown",
   "metadata": {},
   "source": [
    "## GUESS THE GENDER"
   ]
  },
  {
   "cell_type": "code",
   "execution_count": 23,
   "metadata": {},
   "outputs": [],
   "source": [
    "# instatiate the detector\n",
    "d = gender.Detector()"
   ]
  },
  {
   "cell_type": "code",
   "execution_count": 24,
   "metadata": {},
   "outputs": [],
   "source": [
    "# this functions adds a gender column for a specific column\n",
    "def guess_col_gender(col, suff='_gender', df=df, d=d):\n",
    "    # extract first names by splitting by ' ' and choosing the first element\n",
    "    first_names = [f.split(' ')[0] for f in df[col].tolist()]\n",
    "    # guessing the gender\n",
    "    genders = [d.get_gender(first_name) for first_name in first_names]\n",
    "    # adding it as a col_gender column\n",
    "    df[f'{col}{suff}'] = genders\n",
    "    \n",
    "    return df"
   ]
  },
  {
   "cell_type": "code",
   "execution_count": 25,
   "metadata": {},
   "outputs": [],
   "source": [
    "# doing gender guessing for both composers and lyricists\n",
    "df_g = guess_col_gender('composer', df=guess_col_gender('lyricist'))"
   ]
  },
  {
   "cell_type": "code",
   "execution_count": 26,
   "metadata": {},
   "outputs": [],
   "source": [
    "df_g.to_csv('anthems-gender-scrape.csv')"
   ]
  }
 ],
 "metadata": {
  "kernelspec": {
   "display_name": "Python 3",
   "language": "python",
   "name": "python3"
  },
  "language_info": {
   "codemirror_mode": {
    "name": "ipython",
    "version": 3
   },
   "file_extension": ".py",
   "mimetype": "text/x-python",
   "name": "python",
   "nbconvert_exporter": "python",
   "pygments_lexer": "ipython3",
   "version": "3.6.7"
  },
  "toc": {
   "base_numbering": 1,
   "nav_menu": {},
   "number_sections": false,
   "sideBar": false,
   "skip_h1_title": false,
   "title_cell": "Table of Contents",
   "title_sidebar": "Contents",
   "toc_cell": false,
   "toc_position": {},
   "toc_section_display": false,
   "toc_window_display": false
  }
 },
 "nbformat": 4,
 "nbformat_minor": 2
}
