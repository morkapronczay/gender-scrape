{
 "cells": [
  {
   "cell_type": "code",
   "execution_count": 1,
   "metadata": {},
   "outputs": [],
   "source": [
    "import pandas as pd\n",
    "import requests\n",
    "from bs4 import BeautifulSoup\n",
    "from tqdm import tqdm_notebook as tqdm\n",
    "import gender_guesser.detector as gender"
   ]
  },
  {
   "cell_type": "markdown",
   "metadata": {},
   "source": [
    "## SCRAPE SPEAKERS"
   ]
  },
  {
   "cell_type": "code",
   "execution_count": 14,
   "metadata": {},
   "outputs": [],
   "source": [
    "def content_parser(content):\n",
    "    key = content.findAll('h3', {'class': 'accordion__title'})[0].text.strip()\n",
    "    session_type = content.findAll('div', {'class': 'content-type'})[0].findAll(\n",
    "        'span', {'class': 'accordion__value'})[0].text\n",
    "    try:\n",
    "        theme = [cont.text for cont in content.findAll('div', {'class': 'theme'})[0].findAll(\n",
    "            'div', {'class': \"field--session-theme\"})[0].findAll('div')[1:]]\n",
    "    except IndexError:\n",
    "        theme = 'No theme'\n",
    "    try:\n",
    "        categories = [cont.text for cont in content.findAll('div', {'class': 'category'})[0].findAll(\n",
    "            'div', {'class': \"field--session-category\"})[0].findAll('div')[1:]]\n",
    "    except IndexError:\n",
    "        categories = 'No categories'\n",
    "    \n",
    "    try:\n",
    "        speakers = [f.text for f in content.findAll('div', {'class' : 'speakers'})[0].findAll('div', {'class': 'field--session-speakers'})[0].findAll('div')[1:]]\n",
    "    except IndexError:\n",
    "        speakers = 'No speakers'\n",
    "    \n",
    "    return {key: {'speakers': speakers, 'session-type': session_type, 'theme': theme, 'categories': categories}}\n",
    "\n",
    "def scrape_sessions(page='https://tc19.tableau.com/learn/sessions'):\n",
    "    speakers_page = []\n",
    "    page_left = True\n",
    "    \n",
    "    while page_left:\n",
    "        r = requests.get(page)\n",
    "        soup = BeautifulSoup(r.content, 'html5lib')\n",
    "        contents = soup.findAll('div', {'class': 'accordion__item'})\n",
    "        speakers_text = []\n",
    "        speakers_text = [content_parser(f) for f in contents]\n",
    "        speakers_page.append(speakers_text)\n",
    "        try:\n",
    "            page = f\"https://tc19.tableau.com{soup.findAll('li', {'class': 'pager__item pager__item--next'})[0].findAll('a')[0]['href']}\"\n",
    "        except:\n",
    "            page_left = False\n",
    "    \n",
    "    speakers_page_flat = [item for sublist in speakers_page for item in sublist]\n",
    "        \n",
    "    keys = [list(k.keys())[0] for k in speakers_page_flat]\n",
    "    values = [list(k.values())[0] for k in speakers_page_flat]\n",
    "    \n",
    "    return {k: v for k,v in zip(keys, values)}\n",
    "\n",
    "def try_scrape_sessions():\n",
    "    try:\n",
    "        return scrape_sessions()\n",
    "    except:\n",
    "        return None\n",
    "    "
   ]
  },
  {
   "cell_type": "code",
   "execution_count": 15,
   "metadata": {
    "scrolled": false
   },
   "outputs": [
    {
     "data": {
      "application/vnd.jupyter.widget-view+json": {
       "model_id": "eb19d4c53a414706a6191300008e2003",
       "version_major": 2,
       "version_minor": 0
      },
      "text/plain": [
       "HBox(children=(IntProgress(value=0, max=1000), HTML(value='')))"
      ]
     },
     "metadata": {},
     "output_type": "display_data"
    },
    {
     "name": "stdout",
     "output_type": "stream",
     "text": [
      "\n"
     ]
    }
   ],
   "source": [
    "# we do this multiple times as we get partially different results for every run\n",
    "sessions_multi = [try_scrape_sessions() for i in tqdm(range(1000))]"
   ]
  },
  {
   "cell_type": "code",
   "execution_count": 16,
   "metadata": {},
   "outputs": [
    {
     "data": {
      "application/vnd.jupyter.widget-view+json": {
       "model_id": "784ecb1a1a23444291d084c332d41f4a",
       "version_major": 2,
       "version_minor": 0
      },
      "text/plain": [
       "HBox(children=(IntProgress(value=0, max=1000), HTML(value='')))"
      ]
     },
     "metadata": {},
     "output_type": "display_data"
    },
    {
     "name": "stdout",
     "output_type": "stream",
     "text": [
      "\n"
     ]
    }
   ],
   "source": [
    "# summarize: get only unique scraped sessions\n",
    "sum_sessions = {}\n",
    "for session in tqdm(sessions_multi):\n",
    "    for k, v in session.items():\n",
    "        sum_sessions[k] = v"
   ]
  },
  {
   "cell_type": "code",
   "execution_count": 20,
   "metadata": {},
   "outputs": [
    {
     "data": {
      "text/plain": [
       "375"
      ]
     },
     "execution_count": 20,
     "metadata": {},
     "output_type": "execute_result"
    }
   ],
   "source": [
    "len(sum_sessions.keys())"
   ]
  },
  {
   "cell_type": "code",
   "execution_count": 22,
   "metadata": {},
   "outputs": [],
   "source": [
    "# join multiple values from list to str\n",
    "def list_str_joiner(val, join_str=' & '):\n",
    "    if type(val) == str:\n",
    "        return val\n",
    "    if type(val) == list:\n",
    "        return join_str.join(val)\n",
    "    "
   ]
  },
  {
   "cell_type": "code",
   "execution_count": 23,
   "metadata": {},
   "outputs": [],
   "source": [
    "# create a dictionary of speakers\n",
    "speaker_dict = {}\n",
    "for k,v in sum_sessions.items():\n",
    "    for speaker in v['speakers']:\n",
    "        speaker_dict[speaker] = [k, v['session-type'], list_str_joiner(v['theme']), list_str_joiner(v['categories'])]"
   ]
  },
  {
   "cell_type": "code",
   "execution_count": 24,
   "metadata": {},
   "outputs": [],
   "source": [
    "# create a dataframe\n",
    "session_data = pd.DataFrame.from_dict(speaker_dict,\n",
    "                                      orient='index',\n",
    "                                      columns = ['title', 'session-type', 'themes', 'categories'])"
   ]
  },
  {
   "cell_type": "markdown",
   "metadata": {},
   "source": [
    "## GUESS THE GENDER"
   ]
  },
  {
   "cell_type": "code",
   "execution_count": 25,
   "metadata": {},
   "outputs": [],
   "source": [
    "# instantiate a gender detector\n",
    "d = gender.Detector()"
   ]
  },
  {
   "cell_type": "code",
   "execution_count": 26,
   "metadata": {},
   "outputs": [],
   "source": [
    "# get first names to do detection\n",
    "first_names = [name.split(' ')[0] for name in session_data.index]"
   ]
  },
  {
   "cell_type": "code",
   "execution_count": 27,
   "metadata": {},
   "outputs": [],
   "source": [
    "# detect genders\n",
    "genders = [d.get_gender(first_name) for first_name in first_names]\n",
    "session_data['gender'] = genders"
   ]
  },
  {
   "cell_type": "code",
   "execution_count": 29,
   "metadata": {},
   "outputs": [
    {
     "data": {
      "text/html": [
       "<div>\n",
       "<style scoped>\n",
       "    .dataframe tbody tr th:only-of-type {\n",
       "        vertical-align: middle;\n",
       "    }\n",
       "\n",
       "    .dataframe tbody tr th {\n",
       "        vertical-align: top;\n",
       "    }\n",
       "\n",
       "    .dataframe thead th {\n",
       "        text-align: right;\n",
       "    }\n",
       "</style>\n",
       "<table border=\"1\" class=\"dataframe\">\n",
       "  <thead>\n",
       "    <tr style=\"text-align: right;\">\n",
       "      <th></th>\n",
       "      <th>title</th>\n",
       "      <th>session-type</th>\n",
       "      <th>themes</th>\n",
       "      <th>categories</th>\n",
       "      <th>gender</th>\n",
       "    </tr>\n",
       "  </thead>\n",
       "  <tbody>\n",
       "    <tr>\n",
       "      <th>Sarah Battersby</th>\n",
       "      <td>All Over the Map! Level Up your Spatial Vizzes</td>\n",
       "      <td>Session</td>\n",
       "      <td>Data and Analytics Skills</td>\n",
       "      <td>No categories</td>\n",
       "      <td>female</td>\n",
       "    </tr>\n",
       "    <tr>\n",
       "      <th>Ashwin Kumar</th>\n",
       "      <td>A Beginner's Guide to Maps</td>\n",
       "      <td>Session</td>\n",
       "      <td>Data and Analytics Skills</td>\n",
       "      <td>No categories</td>\n",
       "      <td>unknown</td>\n",
       "    </tr>\n",
       "    <tr>\n",
       "      <th>Eric Freeman</th>\n",
       "      <td>Just a Dash of Inspiration: Effective Visual D...</td>\n",
       "      <td>Hands-on Training</td>\n",
       "      <td>Dashboard and Design</td>\n",
       "      <td>No categories</td>\n",
       "      <td>male</td>\n",
       "    </tr>\n",
       "    <tr>\n",
       "      <th>Maddie Rawding</th>\n",
       "      <td>Just a Dash of Inspiration: Effective Visual D...</td>\n",
       "      <td>Hands-on Training</td>\n",
       "      <td>Dashboard and Design</td>\n",
       "      <td>No categories</td>\n",
       "      <td>female</td>\n",
       "    </tr>\n",
       "    <tr>\n",
       "      <th>Zach Ahrens</th>\n",
       "      <td>Agility and Deployment Best Practices</td>\n",
       "      <td>Session</td>\n",
       "      <td>Data Culture</td>\n",
       "      <td>No categories</td>\n",
       "      <td>male</td>\n",
       "    </tr>\n",
       "    <tr>\n",
       "      <th>Sanjeev Verma</th>\n",
       "      <td>Centralized Row-Level Security</td>\n",
       "      <td>Session</td>\n",
       "      <td>Data Management</td>\n",
       "      <td>No categories</td>\n",
       "      <td>male</td>\n",
       "    </tr>\n",
       "    <tr>\n",
       "      <th>Miranda Osterheld</th>\n",
       "      <td>Tableau Hacks: Use Tableau Server to Fit Your ...</td>\n",
       "      <td>Session</td>\n",
       "      <td>Data Culture</td>\n",
       "      <td>No categories</td>\n",
       "      <td>female</td>\n",
       "    </tr>\n",
       "    <tr>\n",
       "      <th>Ann Jackson</th>\n",
       "      <td>Zen Master: Tableau Speed Tipping</td>\n",
       "      <td>Session</td>\n",
       "      <td>Data and Analytics Skills</td>\n",
       "      <td>No categories</td>\n",
       "      <td>female</td>\n",
       "    </tr>\n",
       "    <tr>\n",
       "      <th>Lorna Eden</th>\n",
       "      <td>Zen Master: Tableau Speed Tipping</td>\n",
       "      <td>Session</td>\n",
       "      <td>Data and Analytics Skills</td>\n",
       "      <td>No categories</td>\n",
       "      <td>female</td>\n",
       "    </tr>\n",
       "    <tr>\n",
       "      <th>Priyatham  Pamu</th>\n",
       "      <td>Understanding Tableau Queries, Techniques and ...</td>\n",
       "      <td>Session</td>\n",
       "      <td>Data Management</td>\n",
       "      <td>No categories</td>\n",
       "      <td>unknown</td>\n",
       "    </tr>\n",
       "  </tbody>\n",
       "</table>\n",
       "</div>"
      ],
      "text/plain": [
       "                                                               title  \\\n",
       "Sarah Battersby       All Over the Map! Level Up your Spatial Vizzes   \n",
       "Ashwin Kumar                              A Beginner's Guide to Maps   \n",
       "Eric Freeman       Just a Dash of Inspiration: Effective Visual D...   \n",
       "Maddie Rawding     Just a Dash of Inspiration: Effective Visual D...   \n",
       "Zach Ahrens                    Agility and Deployment Best Practices   \n",
       "Sanjeev Verma                         Centralized Row-Level Security   \n",
       "Miranda Osterheld  Tableau Hacks: Use Tableau Server to Fit Your ...   \n",
       "Ann Jackson                        Zen Master: Tableau Speed Tipping   \n",
       "Lorna Eden                         Zen Master: Tableau Speed Tipping   \n",
       "Priyatham  Pamu    Understanding Tableau Queries, Techniques and ...   \n",
       "\n",
       "                        session-type                     themes  \\\n",
       "Sarah Battersby              Session  Data and Analytics Skills   \n",
       "Ashwin Kumar                 Session  Data and Analytics Skills   \n",
       "Eric Freeman       Hands-on Training       Dashboard and Design   \n",
       "Maddie Rawding     Hands-on Training       Dashboard and Design   \n",
       "Zach Ahrens                  Session               Data Culture   \n",
       "Sanjeev Verma                Session            Data Management   \n",
       "Miranda Osterheld            Session               Data Culture   \n",
       "Ann Jackson                  Session  Data and Analytics Skills   \n",
       "Lorna Eden                   Session  Data and Analytics Skills   \n",
       "Priyatham  Pamu              Session            Data Management   \n",
       "\n",
       "                      categories   gender  \n",
       "Sarah Battersby    No categories   female  \n",
       "Ashwin Kumar       No categories  unknown  \n",
       "Eric Freeman       No categories     male  \n",
       "Maddie Rawding     No categories   female  \n",
       "Zach Ahrens        No categories     male  \n",
       "Sanjeev Verma      No categories     male  \n",
       "Miranda Osterheld  No categories   female  \n",
       "Ann Jackson        No categories   female  \n",
       "Lorna Eden         No categories   female  \n",
       "Priyatham  Pamu    No categories  unknown  "
      ]
     },
     "execution_count": 29,
     "metadata": {},
     "output_type": "execute_result"
    }
   ],
   "source": [
    "session_data.head(10)"
   ]
  },
  {
   "cell_type": "code",
   "execution_count": 30,
   "metadata": {},
   "outputs": [],
   "source": [
    "session_data.to_csv('tableau-speakers-gender-scrape.csv')"
   ]
  }
 ],
 "metadata": {
  "kernelspec": {
   "display_name": "Python 3",
   "language": "python",
   "name": "python3"
  },
  "language_info": {
   "codemirror_mode": {
    "name": "ipython",
    "version": 3
   },
   "file_extension": ".py",
   "mimetype": "text/x-python",
   "name": "python",
   "nbconvert_exporter": "python",
   "pygments_lexer": "ipython3",
   "version": "3.6.7"
  },
  "toc": {
   "base_numbering": 1,
   "nav_menu": {},
   "number_sections": false,
   "sideBar": false,
   "skip_h1_title": false,
   "title_cell": "Table of Contents",
   "title_sidebar": "Contents",
   "toc_cell": false,
   "toc_position": {},
   "toc_section_display": false,
   "toc_window_display": false
  }
 },
 "nbformat": 4,
 "nbformat_minor": 2
}
